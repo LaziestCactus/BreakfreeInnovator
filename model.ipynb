{
 "cells": [
  {
   "cell_type": "code",
   "execution_count": 1,
   "metadata": {},
   "outputs": [
    {
     "name": "stderr",
     "output_type": "stream",
     "text": [
      "c:\\Users\\Cactus\\miniconda3\\envs\\NLP\\Lib\\site-packages\\tqdm\\auto.py:21: TqdmWarning: IProgress not found. Please update jupyter and ipywidgets. See https://ipywidgets.readthedocs.io/en/stable/user_install.html\n",
      "  from .autonotebook import tqdm as notebook_tqdm\n"
     ]
    }
   ],
   "source": [
    "#imports\n",
    "\n",
    "import pandas as pd\n",
    "import matplotlib.pyplot as plt\n",
    "from tqdm import tqdm\n",
    "import numpy as np\n",
    "\n",
    "import transformers\n",
    "from transformers import BertTokenizer, BertForSequenceClassification\n",
    "\n",
    "import torch\n",
    "import torch.nn as nn\n",
    "from torch.utils.data import DataLoader\n",
    "import torch.nn.functional as F\n",
    "\n",
    "from TextClassificationDataset import TCD"
   ]
  },
  {
   "cell_type": "code",
   "execution_count": 2,
   "metadata": {},
   "outputs": [],
   "source": [
    "#Constants/Hyper-parameter\n",
    "EPOCH = 4\n",
    "NUMLABELS = 3\n",
    "BATCHSIZE = 8"
   ]
  },
  {
   "cell_type": "code",
   "execution_count": 3,
   "metadata": {},
   "outputs": [
    {
     "name": "stderr",
     "output_type": "stream",
     "text": [
      "Some weights of BertForSequenceClassification were not initialized from the model checkpoint at bert-base-uncased and are newly initialized: ['classifier.bias', 'classifier.weight']\n",
      "You should probably TRAIN this model on a down-stream task to be able to use it for predictions and inference.\n"
     ]
    }
   ],
   "source": [
    "#initialize useful models and tools\n",
    "\n",
    "tokenizer = BertTokenizer.from_pretrained('bert-base-uncased')\n",
    "#num_labels represents number of possible type for classification\n",
    "pretrained_model = BertForSequenceClassification.from_pretrained('bert-base-uncased', num_labels=NUMLABELS)\n",
    "train_data = TCD('RawData.JSON', training_set=True) #note: default is true\n",
    "train_loader = DataLoader(train_data, batch_size=BATCHSIZE, shuffle=True)"
   ]
  },
  {
   "cell_type": "code",
   "execution_count": 4,
   "metadata": {},
   "outputs": [
    {
     "name": "stdout",
     "output_type": "stream",
     "text": [
      "Question:  Create a multimedia installation with music and art.\n",
      "Label:  2\n"
     ]
    }
   ],
   "source": [
    "#test train_loader\n",
    "questions, labels = next(iter(train_loader))\n",
    "print(\"Question: \", questions[0])\n",
    "print(\"Label: \", labels[0].numpy())"
   ]
  },
  {
   "cell_type": "code",
   "execution_count": 5,
   "metadata": {},
   "outputs": [],
   "source": [
    "#Preprocess a given batch of questions to its inputID and attMask\n",
    "def preprocess(questions):\n",
    "    encoded_batch = tokenizer.batch_encode_plus(\n",
    "        questions,\n",
    "        add_special_tokens=True,\n",
    "        max_length=64,\n",
    "        padding='max_length',\n",
    "        truncation=True,\n",
    "        return_attention_mask=True,\n",
    "        return_tensors='pt'\n",
    "    )\n",
    "    input_ids = encoded_batch['input_ids']\n",
    "    attention_masks = encoded_batch['attention_mask']\n",
    "    return input_ids, attention_masks"
   ]
  },
  {
   "cell_type": "code",
   "execution_count": 6,
   "metadata": {},
   "outputs": [
    {
     "name": "stdout",
     "output_type": "stream",
     "text": [
      "Question:  Compose a diary entry from the perspective of a historical figure. \n",
      "\n",
      "Tokenized to #:  tensor([  101, 17202,  1037,  9708,  4443,  2013,  1996,  7339,  1997,  1037,\n",
      "         3439,  3275,  1012,   102,     0,     0,     0,     0,     0,     0,\n",
      "            0,     0,     0,     0,     0,     0,     0,     0,     0,     0,\n",
      "            0,     0,     0,     0,     0,     0,     0,     0,     0,     0,\n",
      "            0,     0,     0,     0,     0,     0,     0,     0,     0,     0,\n",
      "            0,     0,     0,     0,     0,     0,     0,     0,     0,     0,\n",
      "            0,     0,     0,     0])\n",
      "Attention mask:  tensor([1, 1, 1, 1, 1, 1, 1, 1, 1, 1, 1, 1, 1, 1, 0, 0, 0, 0, 0, 0, 0, 0, 0, 0,\n",
      "        0, 0, 0, 0, 0, 0, 0, 0, 0, 0, 0, 0, 0, 0, 0, 0, 0, 0, 0, 0, 0, 0, 0, 0,\n",
      "        0, 0, 0, 0, 0, 0, 0, 0, 0, 0, 0, 0, 0, 0, 0, 0])\n"
     ]
    }
   ],
   "source": [
    "#Test preprocessing tokenized sentences\n",
    "questions, labels = next(iter(train_loader))\n",
    "print(\"Question: \", questions[0], '\\n')\n",
    "input_ids, att_masks = preprocess(questions)\n",
    "print(\"Tokenized to #: \", input_ids[0])\n",
    "print(\"Attention mask: \", att_masks[0])"
   ]
  },
  {
   "cell_type": "code",
   "execution_count": 7,
   "metadata": {},
   "outputs": [],
   "source": [
    "# Training the model\n",
    "def train(model, train_loader, optimizer, criterion, device, num_epochs):\n",
    "    model = model.to(device)\n",
    "    loss_history = []\n",
    "    for epoch in range(num_epochs):\n",
    "        model.train()  # Set model to training mode\n",
    "        # Use tqdm to display a progress bar during training\n",
    "        with tqdm(total=len(train_loader),\n",
    "                  desc=f'Epoch {epoch + 1}/{num_epochs}',\n",
    "                  position=0,\n",
    "                  leave=True) as pbar:\n",
    "            # Training loop\n",
    "            for questions, labels in train_loader:\n",
    "                input_ids, attention_masks = preprocess(questions)\n",
    "                # Move inputs and labels to device\n",
    "                input_ids = input_ids.to(device)\n",
    "                attention_masks = attention_masks.to(device)\n",
    "                labels = torch.tensor(labels) #want the type to be torch tensor\n",
    "                labels = labels.to(device)\n",
    "\n",
    "                optimizer.zero_grad()\n",
    "\n",
    "                # Compute loss using the logits, by applying cross entropy\n",
    "                outputs = model(input_ids=input_ids, attention_mask=attention_masks)\n",
    "                outputs = outputs.logits\n",
    "                loss = criterion(outputs, labels)\n",
    "\n",
    "                # Backpropagate and update weight accordingly\n",
    "                loss.backward()\n",
    "                optimizer.step()\n",
    "\n",
    "                # Update Progress Bar, showing current loss\n",
    "                pbar.update(1)\n",
    "                pbar.set_postfix(loss=loss.item())\n",
    "\n",
    "        loss_history.append(loss.item())\n",
    "\n",
    "    return loss_history\n",
    "    #Note: eval is ignored here"
   ]
  },
  {
   "cell_type": "code",
   "execution_count": 8,
   "metadata": {},
   "outputs": [
    {
     "name": "stderr",
     "output_type": "stream",
     "text": [
      "Epoch 1/4:   0%|          | 0/36 [00:00<?, ?it/s]C:\\Users\\Cactus\\AppData\\Local\\Temp\\ipykernel_20392\\4292679310.py:18: UserWarning: To copy construct from a tensor, it is recommended to use sourceTensor.clone().detach() or sourceTensor.clone().detach().requires_grad_(True), rather than torch.tensor(sourceTensor).\n",
      "  labels = torch.tensor(labels) #want the type to be torch tensor\n",
      "Epoch 1/4: 100%|██████████| 36/36 [01:18<00:00,  2.17s/it, loss=0.2]  \n",
      "Epoch 2/4: 100%|██████████| 36/36 [00:53<00:00,  1.48s/it, loss=0.0908]\n",
      "Epoch 3/4: 100%|██████████| 36/36 [01:12<00:00,  2.02s/it, loss=0.0183]\n",
      "Epoch 4/4: 100%|██████████| 36/36 [00:28<00:00,  1.28it/s, loss=0.0162]\n"
     ]
    }
   ],
   "source": [
    "# Activate 'cuda' if there's GPU available\n",
    "device = torch.device('cuda' if torch.cuda.is_available() else 'cpu')\n",
    "optimizer = torch.optim.AdamW(pretrained_model.parameters(), lr=2e-5)\n",
    "criterion = nn.CrossEntropyLoss()\n",
    "\n",
    "# Training\n",
    "loss_history = train(pretrained_model, train_loader, optimizer, criterion, device, num_epochs=EPOCH)\n",
    "\n",
    "# Save the trained result\n",
    "torch.save(pretrained_model.state_dict(), 'bert_fine_tuned.pt')"
   ]
  },
  {
   "cell_type": "code",
   "execution_count": 9,
   "metadata": {},
   "outputs": [
    {
     "data": {
      "image/png": "[encoded data removed]",
      "text/plain": [
       "<Figure size 640x480 with 1 Axes>"
      ]
     },
     "metadata": {},
     "output_type": "display_data"
    },
    {
     "name": "stdout",
     "output_type": "stream",
     "text": [
      "CUDA is not available. GPU support is not enabled.\n"
     ]
    }
   ],
   "source": [
    "#Show how the loss progresses\n",
    "plt.plot(loss_history)\n",
    "plt.title('Loss value vs Epochs')\n",
    "plt.xlabel('Epochs')\n",
    "plt.ylabel('Loss value')\n",
    "plt.show()\n",
    "\n",
    "if torch.cuda.is_available():\n",
    "    print(\"CUDA is available. GPU support is enabled.\")\n",
    "else:\n",
    "    print(\"CUDA is not available. GPU support is not enabled.\")"
   ]
  },
  {
   "cell_type": "code",
   "execution_count": 10,
   "metadata": {},
   "outputs": [
    {
     "name": "stderr",
     "output_type": "stream",
     "text": [
      "Some weights of BertForSequenceClassification were not initialized from the model checkpoint at bert-base-uncased and are newly initialized: ['classifier.bias', 'classifier.weight']\n",
      "You should probably TRAIN this model on a down-stream task to be able to use it for predictions and inference.\n"
     ]
    },
    {
     "name": "stdout",
     "output_type": "stream",
     "text": [
      "\n",
      "What assignment are you working on today? (Press 'q' or 'quit' to exit)\n",
      "do this math problem in solving eigenvalues\n",
      "tensor([[0.0090, 0.9803, 0.0107]])\n",
      "\n",
      "\n",
      "1. Successfully tackled the most challenging problems in the assignment, demonstrating mastery of advanced concepts.\n",
      "2. Developed a deeper appreciation for the interconnectedness of different mathematical concepts addressed in the assignment.\n",
      "3. Developed a clear roadmap for completing the remaining sections of the assignment, with defined milestones and timelines.\n",
      "4. Made significant strides in time management and prioritization, allowing for more efficient completion of assignment tasks.\n",
      "5. Made significant headway in understanding and applying new mathematical concepts introduced in the assignment.\n"
     ]
    }
   ],
   "source": [
    "# Use the model to classify a sentence of a user input\n",
    "\n",
    "#This provide necessary logits for sequence classification, rather than plain BertModel\n",
    "model = BertForSequenceClassification.from_pretrained('bert-base-uncased', num_labels=NUMLABELS)\n",
    "model.load_state_dict(torch.load('bert_fine_tuned.pt'))\n",
    "# Make sure that the model is no longer training\n",
    "model.eval()\n",
    "\n",
    "print(\"\\nWhat assignment are you working on today? (Press 'q' or 'quit' to exit)\")\n",
    "while(True):\n",
    "    # Getting user input for the assignment\n",
    "    sentence = input(\"You: \")\n",
    "    print(sentence)\n",
    "    if sentence == \"quit\" or sentence == \"q\":\n",
    "        break\n",
    "    # Tokenize the Sentence\n",
    "    inputs = tokenizer(sentence, return_tensors=\"pt\", padding=True, truncation=True)\n",
    "    # Forward pass through the model, don't need to calculate gradient\n",
    "\n",
    "    with torch.no_grad():\n",
    "        outputs = model(**inputs)\n",
    "    # Get the predicted class probabilities\n",
    "    predictions = torch.softmax(outputs.logits, dim=1)\n",
    "    prob = torch.max(predictions)\n",
    "    # Get the predicted class label (index with the highest probability)\n",
    "    predicted_class = torch.argmax(predictions, dim=1).item()\n",
    "    print(predictions)\n",
    "    \n",
    "    if(prob<0.88):\n",
    "        print(\"Word it differently please, try to add keywords like 'essay', 'eigenvalue', 'graph' etc.\")\n",
    "        print(\"Try Again Please: \")\n",
    "    else:\n",
    "        #choose 5 random achievements from the corresponding item\n",
    "        map = train_data.__getMap__(predicted_class)\n",
    "        length = len(map)\n",
    "        indices = np.random.choice(length, 5, replace=False)\n",
    "        print('\\n')\n",
    "        for i, n in enumerate(indices):\n",
    "            print(f\"{i + 1}. {map[n]}\")\n",
    "        break"
   ]
  }
 ],
 "metadata": {
  "kernelspec": {
   "display_name": "Python 3",
   "language": "python",
   "name": "python3"
  },
  "language_info": {
   "codemirror_mode": {
    "name": "ipython",
    "version": 3
   },
   "file_extension": ".py",
   "mimetype": "text/x-python",
   "name": "python",
   "nbconvert_exporter": "python",
   "pygments_lexer": "ipython3",
   "version": "3.12.2"
  }
 },
 "nbformat": 4,
 "nbformat_minor": 2
}
